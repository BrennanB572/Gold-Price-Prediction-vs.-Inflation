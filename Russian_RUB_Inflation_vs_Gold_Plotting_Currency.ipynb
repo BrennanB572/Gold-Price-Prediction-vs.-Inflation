{
 "cells": [
  {
   "cell_type": "code",
   "execution_count": null,
   "id": "45fe16e4",
   "metadata": {},
   "outputs": [],
   "source": [
    "import pandas as pd\n",
    "import matplotlib.pyplot as plt\n"
   ]
  },
  {
   "cell_type": "code",
   "execution_count": null,
   "id": "6aa9dd39",
   "metadata": {},
   "outputs": [],
   "source": [
    "Annual_Gold_Value_In_Rubles = pd.read_csv(\"Resources\\output_Annual_Gold_Value_In_Rubles.csv\")\n",
    "inflation_rates = pd.read_csv(\"Resources\\inflation_rates_2013-2021.csv\")\n",
    "russian_inflation_rates = inflation_rates[inflation_rates['country'] == 'Russian Federation']\n"
   ]
  },
  {
   "cell_type": "code",
   "execution_count": null,
   "id": "849a0f0e",
   "metadata": {},
   "outputs": [],
   "source": [
    "russian_inflation_rates = inflation_rates[inflation_rates['country'] == 'Russian Federation']\n",
    "merged_data = pd.merge(Annual_Gold_Value_In_Rubles, russian_inflation_rates, left_on='Year', right_on='year', how='inner')\n",
    "starting_gold_value = merged_data['Gold_Value_In_Rubles'].iloc[0]\n",
    "merged_data['Adjusted_Gold_Value_In_Rubles'] = starting_gold_value * (1 + merged_data['inflation rate'] / 100).cumprod()\n",
    "merged_data.drop(columns=['country', 'currency', 'inflation rate'], inplace=True)\n",
    "merged_data.drop(columns=['year'], inplace=True)\n"
   ]
  },
  {
   "cell_type": "code",
   "execution_count": null,
   "id": "6258dee7",
   "metadata": {},
   "outputs": [],
   "source": [
    "plt.figure(figsize=(10, 6))\n",
    "plt.plot(merged_data['Year'], merged_data['Gold_Value_In_Rubles'], label='Gold Value in Rubles', marker='o')\n",
    "plt.plot(merged_data['Year'], merged_data['Adjusted_Gold_Value_In_Rubles'], label='Adjusted Gold Value in Rubles', marker='o')\n",
    "plt.xlabel('Year')\n",
    "plt.ylabel('Gold Value in Rubles')\n",
    "plt.title('Gold Value in Rubles Over the Years')\n",
    "plt.legend()\n",
    "plt.grid(True)\n",
    "plt.show()"
   ]
  }
 ],
 "metadata": {
  "kernelspec": {
   "display_name": "Python 3 (ipykernel)",
   "language": "python",
   "name": "python3"
  },
  "language_info": {
   "codemirror_mode": {
    "name": "ipython",
    "version": 3
   },
   "file_extension": ".py",
   "mimetype": "text/x-python",
   "name": "python",
   "nbconvert_exporter": "python",
   "pygments_lexer": "ipython3",
   "version": "3.10.9"
  }
 },
 "nbformat": 4,
 "nbformat_minor": 5
}
