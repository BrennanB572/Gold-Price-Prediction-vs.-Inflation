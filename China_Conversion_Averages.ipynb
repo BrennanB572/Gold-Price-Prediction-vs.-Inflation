{
 "cells": [
  {
   "cell_type": "code",
   "execution_count": 1,
   "id": "d43e6018",
   "metadata": {},
   "outputs": [],
   "source": [
    "import pandas as pd"
   ]
  },
  {
   "cell_type": "code",
   "execution_count": 2,
   "id": "287df4af",
   "metadata": {},
   "outputs": [],
   "source": [
    "China_Conversion_Averages = 'Resources/china_averages.csv'\n",
    "Gold_Price_Annual_Averages = 'Resources/average_annual_gold_prices.csv'"
   ]
  },
  {
   "cell_type": "code",
   "execution_count": 3,
   "id": "28910bb2",
   "metadata": {},
   "outputs": [],
   "source": [
    "China_df = pd.read_csv(China_Conversion_Averages)\n",
    "Gold_df = pd.read_csv(Gold_Price_Annual_Averages)"
   ]
  },
  {
   "cell_type": "code",
   "execution_count": 4,
   "id": "4d5326fc",
   "metadata": {},
   "outputs": [],
   "source": [
    "merged_df = pd.merge(China_df, Gold_df, on='Y ear')"
   ]
  },
  {
   "cell_type": "code",
   "execution_count": 5,
   "id": "646f646b",
   "metadata": {},
   "outputs": [],
   "source": [
    "merged_df['Gold_Value_In_Yen'] = merged_df['Price_Avg'] / merged_df['Adj Close_Avg']"
   ]
  },
  {
   "cell_type": "code",
   "execution_count": 6,
   "id": "c6c45552",
   "metadata": {},
   "outputs": [],
   "source": [
    "merged_df[['Year', 'Gold_Value_In_Yen']].to_csv('Resources/output_Annual_Gold_Value_in_Yen.csv', index=False)"
   ]
  },
  {
   "cell_type": "code",
   "execution_count": null,
   "id": "14a4068c",
   "metadata": {},
   "outputs": [],
   "source": []
  }
 ],
 "metadata": {
  "kernelspec": {
   "display_name": "Python 3 (ipykernel)",
   "language": "python",
   "name": "python3"
  },
  "language_info": {
   "codemirror_mode": {
    "name": "ipython",
    "version": 3
   },
   "file_extension": ".py",
   "mimetype": "text/x-python",
   "name": "python",
   "nbconvert_exporter": "python",
   "pygments_lexer": "ipython3",
   "version": "3.11.5"
  }
 },
 "nbformat": 4,
 "nbformat_minor": 5
}
