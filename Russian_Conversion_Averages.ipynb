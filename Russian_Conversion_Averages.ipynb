{
 "cells": [
  {
   "cell_type": "code",
   "execution_count": 13,
   "id": "45fe16e4",
   "metadata": {},
   "outputs": [],
   "source": [
    "import pandas as pd"
   ]
  },
  {
   "cell_type": "code",
   "execution_count": 14,
   "id": "6aa9dd39",
   "metadata": {},
   "outputs": [],
   "source": [
    "Russian_Conversion_Averages = 'Resources/RUSSIAN_averages.csv'\n",
    "Gold_Price_Annual_Averages = 'Resources/average_annual_gold_prices.csv'\n"
   ]
  },
  {
   "cell_type": "code",
   "execution_count": 15,
   "id": "9c047ff0",
   "metadata": {},
   "outputs": [],
   "source": [
    "Russian_df = pd.read_csv(Russian_Conversion_Averages)\n",
    "Gold_df = pd.read_csv(Gold_Price_Annual_Averages)"
   ]
  },
  {
   "cell_type": "code",
   "execution_count": 16,
   "id": "51faee91",
   "metadata": {},
   "outputs": [],
   "source": [
    "merged_df = pd.merge(Russian_df, Gold_df, on='Year')\n"
   ]
  },
  {
   "cell_type": "code",
   "execution_count": 17,
   "id": "d3e85f93",
   "metadata": {},
   "outputs": [],
   "source": [
    "merged_df['Gold_Value_In_Rubles'] = merged_df['Price_Avg'] / merged_df['Adj Close_Avg']\n"
   ]
  },
  {
   "cell_type": "code",
   "execution_count": 18,
   "id": "38ff4244",
   "metadata": {},
   "outputs": [],
   "source": [
    "merged_df[['Year', 'Gold_Value_In_Rubles']].to_csv('Resources/output_Annual_Gold_Value_In_Rubles.csv', index=False)\n"
   ]
  }
 ],
 "metadata": {
  "kernelspec": {
   "display_name": "Python 3 (ipykernel)",
   "language": "python",
   "name": "python3"
  },
  "language_info": {
   "codemirror_mode": {
    "name": "ipython",
    "version": 3
   },
   "file_extension": ".py",
   "mimetype": "text/x-python",
   "name": "python",
   "nbconvert_exporter": "python",
   "pygments_lexer": "ipython3",
   "version": "3.10.9"
  }
 },
 "nbformat": 4,
 "nbformat_minor": 5
}
