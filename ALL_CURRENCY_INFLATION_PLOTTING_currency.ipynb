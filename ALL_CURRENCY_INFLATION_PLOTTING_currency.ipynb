{
 "cells": [
  {
   "cell_type": "code",
   "execution_count": 1,
   "id": "45fe16e4",
   "metadata": {},
   "outputs": [],
   "source": [
    "import pandas as pd\n",
    "import matplotlib.pyplot as plt\n"
   ]
  },
  {
   "cell_type": "code",
   "execution_count": 2,
   "id": "6aa9dd39",
   "metadata": {},
   "outputs": [],
   "source": [
    "Annual_Gold_Value_In_Rubles = pd.read_csv('Resources/output_Annual_Gold_Value_In_Rubles.csv')\n",
    "Inflation_rates_2013_2021 = pd.read_csv('Resources/inflation_rates_2013-2021.csv')\n",
    "\n",
    "russian_inflation = Inflation_rates_2013_2021[Inflation_rates_2013_2021['country'] == 'Russian Federation']\n"
   ]
  },
  {
   "cell_type": "code",
   "execution_count": 3,
   "id": "849a0f0e",
   "metadata": {},
   "outputs": [],
   "source": [
    "def calculate_percent_change(data, year_column, value_column):\n",
    "    percent_change = {}\n",
    "    for i in range(1, len(data)):\n",
    "        old_value = data[value_column].iloc[i - 1]\n",
    "        new_value = data[value_column].iloc[i]\n",
    "        print(f\"old_value: {old_value}, new_value: {new_value}\")\n",
    "        change = ((new_value - old_value) / old_value) * 100\n",
    "        percent_change[data[year_column].iloc[i]] = change\n",
    "    return percent_change\n",
    "\n",
    "def ruble_inflation_creation(data):\n",
    "    ruble_inflation_made = {}\n",
    "    for i in range(len(data)):\n",
    "        year = data['year'].iloc[i]\n",
    "        inflation_rate = data['inflation rate'].iloc[i]\n",
    "        ruble_inflation_made[year] = inflation_rate\n",
    "    return ruble_inflation_made\n",
    "\n",
    "def calculate_currency_change(data, year_column, value_column):\n",
    "    currency_change = {}\n",
    "    for i in range(1, len(data)):\n",
    "        old_value = data[value_column].iloc[i - 1]\n",
    "        new_value = data[value_column].iloc[i]\n",
    "        change = new_value - old_value\n",
    "        currency_change[data[year_column].iloc[i]] = change\n",
    "    return currency_change\n",
    "\n",
    "def ruble_inflation_creation(data):\n",
    "    ruble_inflation_made = {}\n",
    "    for i in range(len(data)):\n",
    "        year = data['year'].iloc[i]\n",
    "        inflation_rate = data['inflation rate'].iloc[i]\n",
    "        # Assuming the base value is 1 Ruble, you can calculate the currency quantity change\n",
    "        currency_change = 1 + (inflation_rate / 100)\n",
    "        ruble_inflation_made[year] = currency_change\n",
    "    return ruble_inflation_made\n",
    "\n",
    "ruble_currency_change = ruble_inflation_creation(Inflation_rates_2013_2021)\n",
    "currency_change_gold = calculate_currency_change(Annual_Gold_Value_In_Rubles, 'Year', 'Gold_Value_In_Rubles')\n"
   ]
  },
  {
   "cell_type": "code",
   "execution_count": 4,
   "id": "46b7278d",
   "metadata": {},
   "outputs": [
    {
     "name": "stdout",
     "output_type": "stream",
     "text": [
      "old_value: 44791.20054311803, new_value: 47659.876665603166\n",
      "old_value: 47659.876665603166, new_value: 70151.21571664493\n",
      "old_value: 70151.21571664493, new_value: 61629.45414798059\n",
      "old_value: 61629.45414798059, new_value: 73450.440053803\n",
      "old_value: 73450.440053803, new_value: 79423.06481707597\n",
      "old_value: 79423.06481707597, new_value: 90385.41280287637\n",
      "old_value: 90385.41280287637, new_value: 127847.09175307302\n",
      "old_value: 127847.09175307302, new_value: 132566.23276479746\n",
      "old_value: 132566.23276479746, new_value: 121960.76280708624\n"
     ]
    }
   ],
   "source": [
    "ruble_inflation_change = ruble_inflation_creation(Inflation_rates_2013_2021)\n",
    "percent_change_gold = calculate_percent_change(Annual_Gold_Value_In_Rubles, 'Year', 'Gold_Value_In_Rubles')\n",
    "\n",
    "ruble_currency_change = ruble_inflation_creation(Inflation_rates_2013_2021)\n",
    "currency_change_gold = calculate_currency_change(Annual_Gold_Value_In_Rubles, 'Year', 'Gold_Value_In_Rubles')\n"
   ]
  },
  {
   "cell_type": "code",
   "id": "6258dee7",
   "metadata": {},
   "outputs": [
    {
     "data": {
      "text/plain": [
       "<Figure size 1200x600 with 1 Axes>"
      ]
     },
     "metadata": {},
     "output_type": "display_data"
    }
   ],
   "source": [
    "plt.figure(figsize=(12, 6), label = 'InPercetages')\n",
    "\n",
    "plt.plot(ruble_currency_change.keys(), ruble_currency_change.values(), marker='o', linestyle='-', label='gold')\n",
    "plt.plot(currency_change_gold.keys(), currency_change_gold.values(), marker='o', linestyle='-', label='ruble')\n",
    "\n",
    "for year, rate in ruble_currency_change.items():\n",
    "    plt.text(year, rate, f'{rate:.2f}', ha='left', va='center', fontsize=8, color='blue')\n",
    "for year, rate in currency_change_gold.items():\n",
    "    plt.text(year, rate, f'{rate:.2f}', ha='left', va='center', fontsize=8, color='blue')\n",
    "\n",
    "plt.title('Gold Value $(Rubles) Over Years')\n",
    "plt.xlabel('Year')\n",
    "plt.ylabel('Gold Value $(Rubles)')\n",
    "plt.legend()\n",
    "plt.grid(True)\n",
    "plt.show()"
   ]
  },
  {
   "cell_type": "code",
   "execution_count": null,
   "id": "f0f8500a",
   "metadata": {},
   "outputs": [],
   "source": []
  }
 ],
 "metadata": {
  "kernelspec": {
   "display_name": "Python 3 (ipykernel)",
   "language": "python",
   "name": "python3"
  },
  "language_info": {
   "codemirror_mode": {
    "name": "ipython",
    "version": 3
   },
   "file_extension": ".py",
   "mimetype": "text/x-python",
   "name": "python",
   "nbconvert_exporter": "python",
   "pygments_lexer": "ipython3",
   "version": "3.11.5"
  }
 },
 "nbformat": 4,
 "nbformat_minor": 5
}
