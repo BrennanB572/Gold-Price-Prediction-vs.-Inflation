{
 "cells": [
  {
   "cell_type": "code",
   "execution_count": null,
   "id": "45fe16e4",
   "metadata": {},
   "outputs": [],
   "source": [
    "import pandas as pd\n",
    "import numpy as np"
   ]
  },
  {
   "cell_type": "code",
   "execution_count": null,
   "id": "6aa9dd39",
   "metadata": {},
   "outputs": [],
   "source": [
    "russia_avgs = ('Resources/RUBLE2US.csv')\n",
    "df = pd.read_csv(russia_avgs)\n",
    "df.head()"
   ]
  },
  {
   "cell_type": "code",
   "execution_count": null,
   "id": "9c047ff0",
   "metadata": {},
   "outputs": [],
   "source": [
    "df['Date'] = pd.to_datetime(df['Date'])\n",
    "df['Year'] = df['Date'].dt.year\n",
    "columns_to_average = [\"Open\", \"High\", \"Low\", \"Close\", \"Adj Close\", \"Volume\"]\n",
    "average_annual_data = pd.DataFrame()"
   ]
  },
  {
   "cell_type": "code",
   "execution_count": null,
   "id": "51faee91",
   "metadata": {},
   "outputs": [],
   "source": [
    "for column in columns_to_average:\n",
    "    average_annual_data[column + '_Avg'] = df.groupby('Year')[column].mean()\n",
    "    print(average_annual_data)"
   ]
  },
  {
   "cell_type": "code",
   "execution_count": null,
   "id": "d3e85f93",
   "metadata": {},
   "outputs": [],
   "source": [
    "average_annual_data.to_csv('Resources/RUSSIA_Conversion_averages.csv', header=True)"
   ]
  },
  {
   "cell_type": "code",
   "execution_count": null,
   "id": "38ff4244",
   "metadata": {},
   "outputs": [],
   "source": []
  }
 ],
 "metadata": {
  "kernelspec": {
   "display_name": "Python 3 (ipykernel)",
   "language": "python",
   "name": "python3"
  },
  "language_info": {
   "codemirror_mode": {
    "name": "ipython",
    "version": 3
   },
   "file_extension": ".py",
   "mimetype": "text/x-python",
   "name": "python",
   "nbconvert_exporter": "python",
   "pygments_lexer": "ipython3",
   "version": "3.10.9"
  }
 },
 "nbformat": 4,
 "nbformat_minor": 5
}
