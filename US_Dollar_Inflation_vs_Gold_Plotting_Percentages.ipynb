{
 "cells": [
  {
   "cell_type": "code",
   "execution_count": 6,
   "id": "bec05514",
   "metadata": {},
   "outputs": [],
   "source": [
    "import pandas as pd\n",
    "import matplotlib.pyplot as plt\n",
    "import os\n"
   ]
  },
  {
   "cell_type": "code",
   "execution_count": null,
   "id": "855e7d25",
   "metadata": {},
   "outputs": [],
   "source": [
    "annualGoldUnitedStates = ('Resources/average_annual_gold_prices.csv')\n",
    "inflationRates = ('Resources/inflation_rates_2013-2021.csv')"
   ]
  },
  {
   "cell_type": "code",
   "execution_count": 7,
   "id": "c1eb994e",
   "metadata": {},
   "outputs": [],
   "source": [
    "goldDf = pd.read_csv(annualGoldUnitedStates)\n",
    "inflationDf = pd.read_csv(inflationRates)\n",
    "United_States_inflation = inflationDf[inflationDf['country'] == 'United States']"
   ]
  },
  {
   "cell_type": "code",
   "execution_count": 8,
   "id": "2310be75",
   "metadata": {},
   "outputs": [
    {
     "name": "stdout",
     "output_type": "stream",
     "text": [
      "old_value: 1409.3511627906976, new_value: 1266.2542635658913\n",
      "old_value: 1266.2542635658913, new_value: 1159.4084942084942\n",
      "old_value: 1159.4084942084942, new_value: 1251.1232558139534\n",
      "old_value: 1251.1232558139534, new_value: 1260.4684824902724\n",
      "old_value: 1260.4684824902724, new_value: 1271.8906976744186\n",
      "old_value: 1271.8906976744186, new_value: 1397.7829457364342\n",
      "old_value: 1397.7829457364342, new_value: 1778.7185328185328\n",
      "old_value: 1778.7185328185328, new_value: 1799.774031007752\n",
      "old_value: 1799.774031007752, new_value: 1804.7476923076924\n"
     ]
    }
   ],
   "source": [
    "def calculate_percent_change(data, year_column, value_column):\n",
    "    percent_change = {}\n",
    "    for i in range(1, len(data)):\n",
    "        old_value = data[value_column].iloc[i - 1]\n",
    "        new_value = data[value_column].iloc[i]\n",
    "        print(f\"old_value: {old_value}, new_value: {new_value}\")\n",
    "        change = ((new_value - old_value) / old_value) * 100\n",
    "        percent_change[data[year_column].iloc[i]] = change\n",
    "    return percent_change\n",
    "def United_States_inflation_creation(data):\n",
    "    United_States_inflation_made = {}\n",
    "    for i in range(len(data)):\n",
    "        year = data['year'].iloc[i]\n",
    "        inflation_rate = data['inflation rate'].iloc[i]\n",
    "        United_States_inflation_made[year] = inflation_rate\n",
    "    return United_States_inflation_made\n",
    "United_States_Inflation_Change = United_States_inflation_creation(United_States_inflation)\n",
    "percentChangeGold = calculate_percent_change(goldDf, 'Year', 'Price_Avg')"
   ]
  },
  {
   "cell_type": "code",
   "execution_count": 9,
   "id": "6e58d70b",
   "metadata": {},
   "outputs": [
    {
     "ename": "SyntaxError",
     "evalue": "(unicode error) 'unicodeescape' codec can't decode bytes in position 13-14: truncated \\UXXXXXXXX escape (493771589.py, line 10)",
     "output_type": "error",
     "traceback": [
      "\u001b[1;36m  Cell \u001b[1;32mIn[9], line 10\u001b[1;36m\u001b[0m\n\u001b[1;33m    plt.savefig('Plotted Chart\\USDollarPercentages.png')\u001b[0m\n\u001b[1;37m                                                       ^\u001b[0m\n\u001b[1;31mSyntaxError\u001b[0m\u001b[1;31m:\u001b[0m (unicode error) 'unicodeescape' codec can't decode bytes in position 13-14: truncated \\UXXXXXXXX escape\n"
     ]
    }
   ],
   "source": [
    "plt.figure(figsize=(12, 6))\n",
    "plt.plot(percentChangeGold.keys(), percentChangeGold.values(), marker='o', linestyle='-', label='gold')\n",
    "plt.plot(United_States_Inflation_Change.keys(), United_States_Inflation_Change.values(), marker='o', linestyle='-', label='dollars')\n",
    "plt.title('Percent Change in Gold Value (Dollars) Over Years')\n",
    "plt.xlabel('Year')\n",
    "plt.ylabel('Percent Change (%)')\n",
    "plt.legend()\n",
    "plt.grid(True)\n",
    "plt.savefig(os.path.join('Plotted Charts', 'USDollarPercentages.png'))\n",
    "\n",
    "plt.show()"
   ]
  },
  {
   "cell_type": "code",
   "execution_count": null,
   "id": "f2e6116b",
   "metadata": {},
   "outputs": [],
   "source": []
  }
 ],
 "metadata": {
  "kernelspec": {
   "display_name": "Python 3 (ipykernel)",
   "language": "python",
   "name": "python3"
  },
  "language_info": {
   "codemirror_mode": {
    "name": "ipython",
    "version": 3
   },
   "file_extension": ".py",
   "mimetype": "text/x-python",
   "name": "python",
   "nbconvert_exporter": "python",
   "pygments_lexer": "ipython3",
   "version": "3.10.9"
  }
 },
 "nbformat": 4,
 "nbformat_minor": 5
}
