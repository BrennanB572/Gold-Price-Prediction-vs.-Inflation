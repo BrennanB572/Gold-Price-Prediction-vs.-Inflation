{
 "cells": [
  {
   "cell_type": "code",
   "execution_count": 12,
   "id": "45fe16e4",
   "metadata": {},
   "outputs": [],
   "source": [
    "import pandas as pd\n",
    "import matplotlib.pyplot as plt\n"
   ]
  },
  {
   "cell_type": "code",
   "execution_count": 13,
   "id": "6aa9dd39",
   "metadata": {},
   "outputs": [],
   "source": [
    "average_annual_gold_prices = pd.read_csv(\"Resources/average_annual_gold_prices.csv\")\n",
    "inflation_rates_2013_2021 = pd.read_csv(\"Resources\\inflation_rates_2013-2021.csv\")\n",
    "\n",
    "## this is only for currency specific\n",
    "RUSSIA_Conversion_averages = pd.read_csv(\"Resources\\RUSSIA_Conversion_averages.csv\")"
   ]
  },
  {
   "cell_type": "code",
   "execution_count": null,
   "id": "849a0f0e",
   "metadata": {},
   "outputs": [],
   "source": []
  },
  {
   "cell_type": "code",
   "execution_count": null,
   "id": "46b7278d",
   "metadata": {},
   "outputs": [],
   "source": []
  },
  {
   "cell_type": "code",
   "execution_count": null,
   "id": "6258dee7",
   "metadata": {},
   "outputs": [],
   "source": []
  }
 ],
 "metadata": {
  "kernelspec": {
   "display_name": "Python 3 (ipykernel)",
   "language": "python",
   "name": "python3"
  },
  "language_info": {
   "codemirror_mode": {
    "name": "ipython",
    "version": 3
   },
   "file_extension": ".py",
   "mimetype": "text/x-python",
   "name": "python",
   "nbconvert_exporter": "python",
   "pygments_lexer": "ipython3",
   "version": "3.10.9"
  }
 },
 "nbformat": 4,
 "nbformat_minor": 5
}
