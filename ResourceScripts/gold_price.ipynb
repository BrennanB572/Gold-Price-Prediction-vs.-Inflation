{
 "cells": [
  {
   "cell_type": "code",
   "execution_count": 5,
   "id": "965ef441-12e2-4cef-a043-c68099f04244",
   "metadata": {},
   "outputs": [],
   "source": [
    "\n",
    "import pandas as pd\n",
    "import numpy as np\n"
   ]
  },
  {
   "cell_type": "code",
   "execution_count": 6,
   "id": "5ff38d52-ba9e-44dd-b809-14a66a41eae8",
   "metadata": {},
   "outputs": [],
   "source": [
    "\n",
    "# Read the CSV file into a DataFrame\n",
    "df = pd.read_csv('..\\Resources\\Gold Price (2013-2023).csv')  \n",
    "df['Date'] = pd.to_datetime(df['Date'])\n",
    "df['Year'] = df['Date'].dt.year"
   ]
  },
  {
   "cell_type": "code",
   "execution_count": 7,
   "id": "fbf031de-6e51-4e5b-9cd7-80dd902767ec",
   "metadata": {},
   "outputs": [],
   "source": [
    "columns_to_average = [\"Price\", \"Open\", \"High\", \"Low\", \"Vol.\", \"Change %\"]  ##STILL GETTING ERROR ON  \"Vol.\" and \"Change %\"\n",
    "\n",
    "for column in columns_to_average:\n",
    "    df[column] = df[column].str.replace(',', '', regex=True)  # Remove commas in order to make cells numerical\n",
    "    df[column] = pd.to_numeric(df[column], errors='coerce')  # Convert to numeric, replace non-numeric values with NaN ### this is showing the issues is still on \"Vol.\" and \"Change %\"\n",
    "\n",
    "average_annual_data = pd.DataFrame()\n"
   ]
  },
  {
   "cell_type": "code",
   "execution_count": 10,
   "id": "633472b9",
   "metadata": {},
   "outputs": [
    {
     "name": "stdout",
     "output_type": "stream",
     "text": [
      "        Price_Avg     Open_Avg     High_Avg      Low_Avg  Vol._Avg  \\\n",
      "Year                                                                 \n",
      "2013  1409.351163  1411.347674  1421.495349  1397.979457       NaN   \n",
      "2014  1266.254264  1266.399612  1273.880233  1258.739147       NaN   \n",
      "2015  1159.408494  1160.288417  1167.090347  1152.504247       NaN   \n",
      "2016  1251.123256  1250.966279  1259.962016  1242.477519       NaN   \n",
      "2017  1260.468482  1259.901556  1265.929183  1254.015175       NaN   \n",
      "2018  1271.890698  1272.007364  1277.688760  1266.113178       NaN   \n",
      "2019  1397.782946  1397.268605  1404.820930  1390.253101       NaN   \n",
      "2020  1778.718533  1778.699228  1793.737838  1762.441313       NaN   \n",
      "2021  1799.774031  1800.386047  1810.994186  1787.996124       NaN   \n",
      "2022  1804.747692  1805.447885  1817.002115  1792.653462       NaN   \n",
      "\n",
      "      Change %_Avg  \n",
      "Year                \n",
      "2013           NaN  \n",
      "2014           NaN  \n",
      "2015           NaN  \n",
      "2016           NaN  \n",
      "2017           NaN  \n",
      "2018           NaN  \n",
      "2019           NaN  \n",
      "2020           NaN  \n",
      "2021           NaN  \n",
      "2022           NaN  \n"
     ]
    }
   ],
   "source": [
    "\n",
    "\n",
    "\n",
    "for column in columns_to_average:\n",
    "    average_annual_data[column + '_Avg'] = df.groupby('Year')[column].mean()\n",
    "\n",
    "print(average_annual_data)\n",
    "\n",
    "# Creates a CSV file\n",
    "average_annual_data.to_csv('..\\Resources/average_annual_gold_prices.csv', header=True)"
   ]
  }
 ],
 "metadata": {
  "kernelspec": {
   "display_name": "Python 3 (ipykernel)",
   "language": "python",
   "name": "python3"
  },
  "language_info": {
   "codemirror_mode": {
    "name": "ipython",
    "version": 3
   },
   "file_extension": ".py",
   "mimetype": "text/x-python",
   "name": "python",
   "nbconvert_exporter": "python",
   "pygments_lexer": "ipython3",
   "version": "3.10.9"
  }
 },
 "nbformat": 4,
 "nbformat_minor": 5
}
