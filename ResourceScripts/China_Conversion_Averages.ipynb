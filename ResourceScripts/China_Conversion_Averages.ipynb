{
 "cells": [
  {
   "cell_type": "code",
   "execution_count": 1,
   "id": "d43e6018",
   "metadata": {},
   "outputs": [],
   "source": [
    "# importing module - only pandas for this one to read csv\n",
    "import pandas as pd"
   ]
  },
  {
   "cell_type": "code",
   "execution_count": 2,
   "id": "287df4af",
   "metadata": {},
   "outputs": [],
   "source": [
    "# creating variables to hold file paths for china averages and the overall avg gold prices\n",
    "China_Conversion_Averages = '..\\Resources/china_averages.csv'\n",
    "Gold_Price_Annual_Averages = '..\\Resources/average_annual_gold_prices.csv'"
   ]
  },
  {
   "cell_type": "code",
   "execution_count": 3,
   "id": "28910bb2",
   "metadata": {},
   "outputs": [],
   "source": [
    "# reading csv files \n",
    "China_df = pd.read_csv(China_Conversion_Averages)\n",
    "Gold_df = pd.read_csv(Gold_Price_Annual_Averages)"
   ]
  },
  {
   "cell_type": "code",
   "execution_count": 4,
   "id": "4d5326fc",
   "metadata": {},
   "outputs": [],
   "source": [
    "# joining both dataframes on the year column\n",
    "merged_df = pd.merge(China_df, Gold_df, on='Year')"
   ]
  },
  {
   "cell_type": "code",
   "execution_count": 5,
   "id": "646f646b",
   "metadata": {},
   "outputs": [],
   "source": [
    "# creating calculated column called Gold_Value_In_Yen that divides price avg from average_annual_gold_prices.csv by Adj close_avg from china_averages.csv\n",
    "# calculation will apply inflation percentage to overall inflation in gold\n",
    "merged_df['Gold_Value_In_Yen'] = merged_df['Price_Avg'] / merged_df['Adj Close_Avg']"
   ]
  },
  {
   "cell_type": "code",
   "execution_count": 6,
   "id": "c6c45552",
   "metadata": {},
   "outputs": [],
   "source": [
    "# output csv file called output_Annual_Gold_Value_in_Yen.csv holding merged df\n",
    "merged_df[['Year', 'Gold_Value_In_Yen']].to_csv('..\\Resources/output_Annual_Gold_Value_in_Yen.csv', index=False)"
   ]
  },
  {
   "cell_type": "code",
   "execution_count": null,
   "id": "14a4068c",
   "metadata": {},
   "outputs": [],
   "source": []
  }
 ],
 "metadata": {
  "kernelspec": {
   "display_name": "Python 3 (ipykernel)",
   "language": "python",
   "name": "python3"
  },
  "language_info": {
   "codemirror_mode": {
    "name": "ipython",
    "version": 3
   },
   "file_extension": ".py",
   "mimetype": "text/x-python",
   "name": "python",
   "nbconvert_exporter": "python",
   "pygments_lexer": "ipython3",
   "version": "3.10.9"
  }
 },
 "nbformat": 4,
 "nbformat_minor": 5
}
